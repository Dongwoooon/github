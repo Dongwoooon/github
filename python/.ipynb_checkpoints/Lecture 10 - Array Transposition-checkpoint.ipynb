{
 "cells": [
  {
   "cell_type": "code",
   "execution_count": 1,
   "metadata": {
    "collapsed": true
   },
   "outputs": [],
   "source": [
    "import numpy as np"
   ]
  },
  {
   "cell_type": "code",
   "execution_count": 2,
   "metadata": {
    "collapsed": false
   },
   "outputs": [
    {
     "data": {
      "text/plain": [
       "array([[ 0,  1,  2,  3,  4],\n",
       "       [ 5,  6,  7,  8,  9],\n",
       "       [10, 11, 12, 13, 14],\n",
       "       [15, 16, 17, 18, 19],\n",
       "       [20, 21, 22, 23, 24],\n",
       "       [25, 26, 27, 28, 29],\n",
       "       [30, 31, 32, 33, 34],\n",
       "       [35, 36, 37, 38, 39],\n",
       "       [40, 41, 42, 43, 44],\n",
       "       [45, 46, 47, 48, 49]])"
      ]
     },
     "execution_count": 2,
     "metadata": {},
     "output_type": "execute_result"
    }
   ],
   "source": [
    "arr=np.arange(50).reshape((10,5))\n",
    "arr"
   ]
  },
  {
   "cell_type": "code",
   "execution_count": 3,
   "metadata": {
    "collapsed": false
   },
   "outputs": [
    {
     "data": {
      "text/plain": [
       "array([[ 0,  5, 10, 15, 20, 25, 30, 35, 40, 45],\n",
       "       [ 1,  6, 11, 16, 21, 26, 31, 36, 41, 46],\n",
       "       [ 2,  7, 12, 17, 22, 27, 32, 37, 42, 47],\n",
       "       [ 3,  8, 13, 18, 23, 28, 33, 38, 43, 48],\n",
       "       [ 4,  9, 14, 19, 24, 29, 34, 39, 44, 49]])"
      ]
     },
     "execution_count": 3,
     "metadata": {},
     "output_type": "execute_result"
    }
   ],
   "source": [
    "arr.T #Transpose"
   ]
  },
  {
   "cell_type": "code",
   "execution_count": 4,
   "metadata": {
    "collapsed": false
   },
   "outputs": [
    {
     "data": {
      "text/plain": [
       "array([[7125, 7350, 7575, 7800, 8025],\n",
       "       [7350, 7585, 7820, 8055, 8290],\n",
       "       [7575, 7820, 8065, 8310, 8555],\n",
       "       [7800, 8055, 8310, 8565, 8820],\n",
       "       [8025, 8290, 8555, 8820, 9085]])"
      ]
     },
     "execution_count": 4,
     "metadata": {},
     "output_type": "execute_result"
    }
   ],
   "source": [
    "np.dot(arr.T,arr)  # 행렬 곱"
   ]
  },
  {
   "cell_type": "code",
   "execution_count": 5,
   "metadata": {
    "collapsed": false
   },
   "outputs": [
    {
     "data": {
      "text/plain": [
       "array([[[[ 0,  1],\n",
       "         [ 2,  3]],\n",
       "\n",
       "        [[ 4,  5],\n",
       "         [ 6,  7]],\n",
       "\n",
       "        [[ 8,  9],\n",
       "         [10, 11]],\n",
       "\n",
       "        [[12, 13],\n",
       "         [14, 15]],\n",
       "\n",
       "        [[16, 17],\n",
       "         [18, 19]]],\n",
       "\n",
       "\n",
       "       [[[20, 21],\n",
       "         [22, 23]],\n",
       "\n",
       "        [[24, 25],\n",
       "         [26, 27]],\n",
       "\n",
       "        [[28, 29],\n",
       "         [30, 31]],\n",
       "\n",
       "        [[32, 33],\n",
       "         [34, 35]],\n",
       "\n",
       "        [[36, 37],\n",
       "         [38, 39]]],\n",
       "\n",
       "\n",
       "       [[[40, 41],\n",
       "         [42, 43]],\n",
       "\n",
       "        [[44, 45],\n",
       "         [46, 47]],\n",
       "\n",
       "        [[48, 49],\n",
       "         [50, 51]],\n",
       "\n",
       "        [[52, 53],\n",
       "         [54, 55]],\n",
       "\n",
       "        [[56, 57],\n",
       "         [58, 59]]],\n",
       "\n",
       "\n",
       "       [[[60, 61],\n",
       "         [62, 63]],\n",
       "\n",
       "        [[64, 65],\n",
       "         [66, 67]],\n",
       "\n",
       "        [[68, 69],\n",
       "         [70, 71]],\n",
       "\n",
       "        [[72, 73],\n",
       "         [74, 75]],\n",
       "\n",
       "        [[76, 77],\n",
       "         [78, 79]]],\n",
       "\n",
       "\n",
       "       [[[80, 81],\n",
       "         [82, 83]],\n",
       "\n",
       "        [[84, 85],\n",
       "         [86, 87]],\n",
       "\n",
       "        [[88, 89],\n",
       "         [90, 91]],\n",
       "\n",
       "        [[92, 93],\n",
       "         [94, 95]],\n",
       "\n",
       "        [[96, 97],\n",
       "         [98, 99]]]])"
      ]
     },
     "execution_count": 5,
     "metadata": {},
     "output_type": "execute_result"
    }
   ],
   "source": [
    "arr3d = np.arange(100).reshape((5,5,2,2))  #reshape : n차원으로 만들 수 있음\n",
    "arr3d"
   ]
  },
  {
   "cell_type": "code",
   "execution_count": 7,
   "metadata": {
    "collapsed": false
   },
   "outputs": [
    {
     "data": {
      "text/plain": [
       "array([[[[ 0, 20, 40, 60, 80],\n",
       "         [ 4, 24, 44, 64, 84],\n",
       "         [ 8, 28, 48, 68, 88],\n",
       "         [12, 32, 52, 72, 92],\n",
       "         [16, 36, 56, 76, 96]],\n",
       "\n",
       "        [[ 2, 22, 42, 62, 82],\n",
       "         [ 6, 26, 46, 66, 86],\n",
       "         [10, 30, 50, 70, 90],\n",
       "         [14, 34, 54, 74, 94],\n",
       "         [18, 38, 58, 78, 98]]],\n",
       "\n",
       "\n",
       "       [[[ 1, 21, 41, 61, 81],\n",
       "         [ 5, 25, 45, 65, 85],\n",
       "         [ 9, 29, 49, 69, 89],\n",
       "         [13, 33, 53, 73, 93],\n",
       "         [17, 37, 57, 77, 97]],\n",
       "\n",
       "        [[ 3, 23, 43, 63, 83],\n",
       "         [ 7, 27, 47, 67, 87],\n",
       "         [11, 31, 51, 71, 91],\n",
       "         [15, 35, 55, 75, 95],\n",
       "         [19, 39, 59, 79, 99]]]])"
      ]
     },
     "execution_count": 7,
     "metadata": {},
     "output_type": "execute_result"
    }
   ],
   "source": [
    "arr3d.T"
   ]
  },
  {
   "cell_type": "code",
   "execution_count": null,
   "metadata": {
    "collapsed": true
   },
   "outputs": [],
   "source": []
  }
 ],
 "metadata": {
  "kernelspec": {
   "display_name": "Python [Root]",
   "language": "python",
   "name": "Python [Root]"
  },
  "language_info": {
   "codemirror_mode": {
    "name": "ipython",
    "version": 3
   },
   "file_extension": ".py",
   "mimetype": "text/x-python",
   "name": "python",
   "nbconvert_exporter": "python",
   "pygments_lexer": "ipython3",
   "version": "3.5.2"
  }
 },
 "nbformat": 4,
 "nbformat_minor": 0
}
