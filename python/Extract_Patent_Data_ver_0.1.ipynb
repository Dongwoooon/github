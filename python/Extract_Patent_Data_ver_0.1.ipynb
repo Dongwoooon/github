{
 "cells": [
  {
   "cell_type": "markdown",
   "metadata": {},
   "source": [
    "# 전체 data column 구조\n",
    "\n",
    "## 원본 구조\n",
    "- grant_patent: id type number country date abstract title kind num_claims\n",
    "\n",
    "\n",
    "- grant_assignee.tsv ['id', 'type', 'name_first', 'name_last', 'organization', 'residence', 'nationality']\n",
    "- grant_claim.tsv ['uuid', 'patent_id', 'text', 'dependent', 'sequence']\n",
    "- grant_foreigncitation.tsv ['uuid', 'patent_id', 'date', 'kind', 'number', 'country', 'category', 'sequence']\n",
    "- grant_inventor.tsv ['id', 'name_first', 'name_last', 'nationality']\n",
    "- grant_lawyer.tsv ['id', 'name_first', 'name_last', 'organization', 'country']\n",
    "- grant_location.tsv ['id', 'city', 'state', 'country', 'latitude', 'longitude']\n",
    "- grant_otherreference.tsv ['uuid', 'patent_id', 'text', 'sequence']\n",
    "- grant_patent.tsv ['id', 'type', 'number', 'country', 'date', 'abstract', 'title', 'kind', 'num_claims']\n",
    "- grant_rawassignee.tsv ['uuid', 'patent_id', 'assignee_id', 'rawlocation_id', 'type', 'name_first', 'name_last', 'organization', 'residence', 'nationality', 'sequence']\n",
    "- grant_rawinventor ['uuid', 'patent_id', 'inventor_id', 'rawlocation_id', 'name_first', 'name_last', 'sequence']\n",
    "- grant_rawlawyer.tsv ['uuid', 'lawyer_id', 'patent_id', 'name_first', 'name_last', 'organization', 'country', 'sequence']\n",
    "- grant_rawlocation.tsv ['id', 'location_id', 'city', 'state', 'country']\n",
    "- grant_usapplicationcitation.tsv ['uuid', 'patent_id', 'application_id', 'date', 'name', 'kind', 'number', 'country', 'category', 'sequence']\n",
    "- grant_uspatentcitation.tsv ['uuid', 'patent_id', 'citation_id', 'date', 'name', 'kind', 'number', 'country', 'category', 'sequence']\n",
    "- grant_uspc.tsv ['uuid', 'patent_id', 'mainclass_id', 'subclass_id', 'sequence']\n",
    "\n",
    "## 수정본 구조\n",
    "\n",
    "- grant_patent : 위와 동일\n",
    "\n",
    "\n",
    "- 다른 파일의 경우: 'patent_id', '...._0', '..._0', ... ,'..._1','..._1','..._2','..._2'...\n",
    "\n",
    "- grant_rawassignee_sorted_reduced.csv\n",
    "- grant_foreigncitation_sorted.csv\n",
    "- grant_rawinventor_sorted.csv\n",
    "- grant_otherreference_sorted.csv\n",
    "- grant_uspatentcitation_sorted.csv\n",
    "- grant_rawlawyer_sorted.csv\n",
    "- grant_uspc_sorted.csv\n",
    "- grant_usapplicationcitation_sorted.csv\n",
    "\n",
    "\n",
    "ex) laywer가 2명일 경우\n",
    "\n",
    "grant_laywer: 'patent_id', 'id_0','name_first_0', 'name_last_0', 'organization_0', 'country_0', 'id_1','name_first_1', 'name_last_1', 'organization_1', 'country_1'"
   ]
  },
  {
   "cell_type": "code",
   "execution_count": 15,
   "metadata": {
    "collapsed": false
   },
   "outputs": [
    {
     "name": "stdout",
     "output_type": "stream",
     "text": [
      "[6, 8, 17, 19, 28, 30, 39, 41, 50, 52, 61, 63, 72, 74, 83, 85, 94, 96, 105, 107, 116, 118, 127, 129, 138, 140, 149, 151, 160, 162, 171, 173, 182, 184, 193, 195, 204, 206, 215, 217, 226, 228, 237, 239, 248, 250, 259, 261, 270, 272, 281, 283, 292, 294, 303, 305, 314, 316, 325, 327, 336, 338, 347, 349]\n",
      "['name_first_0', 'organization_0', 'name_first_1', 'organization_1', 'name_first_2', 'organization_2', 'name_first_3', 'organization_3', 'name_first_4', 'organization_4', 'name_first_5', 'organization_5', 'name_first_6', 'organization_6', 'name_first_7', 'organization_7', 'name_first_8', 'organization_8', 'name_first_9', 'organization_9', 'name_first_10', 'organization_10', 'name_first_11', 'organization_11', 'name_first_12', 'organization_12', 'name_first_13', 'organization_13', 'name_first_14', 'organization_14', 'name_first_15', 'organization_15', 'name_first_16', 'organization_16', 'name_first_17', 'organization_17', 'name_first_18', 'organization_18', 'name_first_19', 'organization_19', 'name_first_20', 'organization_20', 'name_first_21', 'organization_21', 'name_first_22', 'organization_22', 'name_first_23', 'organization_23', 'name_first_24', 'organization_24', 'name_first_25', 'organization_25', 'name_first_26', 'organization_26', 'name_first_27', 'organization_27', 'name_first_28', 'organization_28', 'name_first_29', 'organization_29', 'name_first_30', 'organization_30', 'name_first_31', 'organization_31']\n"
     ]
    }
   ],
   "source": [
    "#-*- coding: utf-8 -*-\n",
    "import csv\n",
    "\n",
    "# EX) 만약 grant_assignee의 'organization','name_first' 들만 뽑고 싶은 경우\n",
    "right_pointer = open('grant_rawassignee_sorted_reduced.csv', 'r')\n",
    "right_data = csv.reader(right_pointer)\n",
    "\n",
    "column = next(right_data)\n",
    "indexes = [i for i,x in enumerate(column) if 'organization' in x or 'name_first' in x]\n",
    "\n",
    "column_name = list(column[i] for i in indexes)\n",
    "\n",
    "print indexes\n",
    "print column_name\n",
    "\n",
    "with open('grant_rawassignee_extracted.csv', \"wb\") as csvfile:\n",
    "    output = csv.writer(csvfile)\n",
    "    output.writerow(column_name)\n",
    "    \n",
    "    for row in right_data:        \n",
    "        output.writerow(list(row[i] for i in indexes if len(row) > i))\n",
    "    \n",
    "    print \"Done\""
   ]
  },
  {
   "cell_type": "code",
   "execution_count": 20,
   "metadata": {
    "collapsed": false
   },
   "outputs": [],
   "source": [
    "# Grant_Patent 옆에 방금 뽑은 column을 붙이고 싶은 경우\n",
    "left_pointer = open('/Users/jonghkim/Desktop/Research/patent_data/Patent New/grant_patent.tsv', 'r')\n",
    "left_data = csv.reader(left_pointer, dialect=\"excel-tab\")\n",
    "\n",
    "right_pointer = open('grant_rawassignee_extracted.csv')\n",
    "right_data = csv.reader(right_pointer)\n",
    "\n",
    "with open('grant_patent_rawassignee_merged.csv', \"wb\") as csvfile:\n",
    "    output = csv.writer(csvfile)\n",
    "    for left_row in left_data:\n",
    "        new_row = left_row + next(right_data)\n",
    "        output.writerow(new_row)"
   ]
  }
 ],
 "metadata": {
  "anaconda-cloud": {},
  "kernelspec": {
   "display_name": "Python 2",
   "language": "python",
   "name": "python2"
  },
  "language_info": {
   "codemirror_mode": {
    "name": "ipython",
    "version": 2
   },
   "file_extension": ".py",
   "mimetype": "text/x-python",
   "name": "python",
   "nbconvert_exporter": "python",
   "pygments_lexer": "ipython2",
   "version": "2.7.13"
  }
 },
 "nbformat": 4,
 "nbformat_minor": 0
}
